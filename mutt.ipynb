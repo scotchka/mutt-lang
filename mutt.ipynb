{
 "cells": [
  {
   "cell_type": "code",
   "execution_count": 1,
   "metadata": {},
   "outputs": [],
   "source": [
    "from lark import Lark\n",
    "import dis\n",
    "import ast\n",
    "from operator import add, sub, mul, div"
   ]
  },
  {
   "cell_type": "code",
   "execution_count": 2,
   "metadata": {},
   "outputs": [],
   "source": [
    "grammar = r\"\"\"\n",
    "?block: \"{\" (stmt \";\") * \"}\"\n",
    "\n",
    "stmt: \"global\" WORD expr -> assign_global\n",
    "    | \"local\" WORD expr -> assign_local\n",
    "    | \"fn\" WORD \"(\" WORD * \")\" block -> declare_function\n",
    "    | \"return\" expr -> return\n",
    "    | \"if\" expr block (\"elif\" expr block)* (\"else\" block)? -> conditional\n",
    "    | \"while\" expr block -> while\n",
    "    | \"print\" expr -> print\n",
    "    | expr\n",
    "    \n",
    "\n",
    "\n",
    "\n",
    "\n",
    "?expr: term \"==\" expr -> eq\n",
    "    | term \"<\" expr -> lt\n",
    "    | term \">\" expr -> gt\n",
    "    | term \"<=\" expr -> le\n",
    "    | term \">=\" expr -> ge\n",
    "    | term \"!=\" expr -> ne\n",
    "    | \"!\" expr -> neg\n",
    "    | expr \"+\" term -> add\n",
    "    | expr \"-\" term -> sub\n",
    "    | term\n",
    "    \n",
    "?term: term \"*\" factor -> mul\n",
    "    | term \"/\" factor -> sub\n",
    "    | factor\n",
    "\n",
    "?factor: \"+\" factor\n",
    "    | \"-\" factor -> neg\n",
    "    | NUMBER\n",
    "    | WORD\n",
    "    | ESCAPED_STRING\n",
    "    | WORD \"(\" expr* \")\" -> call\n",
    "    | \"True\"\n",
    "    | \"False\"\n",
    "    | \"None\"\n",
    "    | \"(\" expr \")\"\n",
    "\n",
    "COMMENT: /\\(#[\\s\\S]*#\\)/\n",
    "\n",
    "%import common.NUMBER\n",
    "%import common.ESCAPED_STRING\n",
    "%import common.WORD\n",
    "%import common.WS\n",
    "%ignore WS\n",
    "%ignore COMMENT\n",
    "\n",
    "\"\"\""
   ]
  },
  {
   "cell_type": "code",
   "execution_count": 3,
   "metadata": {},
   "outputs": [],
   "source": [
    "parser = Lark(grammar, start='block', parser='lalr')"
   ]
  },
  {
   "cell_type": "code",
   "execution_count": 4,
   "metadata": {},
   "outputs": [],
   "source": [
    "tree = parser.parse(\"\"\"\n",
    "{\n",
    " print 1+2*3;\n",
    " 2+2;\n",
    " print 9;\n",
    "}\n",
    "\"\"\")"
   ]
  },
  {
   "cell_type": "code",
   "execution_count": 5,
   "metadata": {
    "scrolled": true
   },
   "outputs": [
    {
     "name": "stdout",
     "output_type": "stream",
     "text": [
      "block\n",
      "  print\n",
      "    add\n",
      "      1\n",
      "      mul\n",
      "        2\n",
      "        3\n",
      "  stmt\n",
      "    add\n",
      "      2\n",
      "      2\n",
      "  print\t9\n",
      "\n"
     ]
    }
   ],
   "source": [
    "print tree.pretty()"
   ]
  },
  {
   "cell_type": "code",
   "execution_count": 6,
   "metadata": {},
   "outputs": [
    {
     "data": {
      "text/plain": [
       "Tree(block, [Tree(print, [Tree(add, [Token(NUMBER, '1'), Tree(mul, [Token(NUMBER, '2'), Token(NUMBER, '3')])])]), Tree(stmt, [Tree(add, [Token(NUMBER, '2'), Token(NUMBER, '2')])]), Tree(print, [Token(NUMBER, '9')])])"
      ]
     },
     "execution_count": 6,
     "metadata": {},
     "output_type": "execute_result"
    }
   ],
   "source": [
    "tree"
   ]
  },
  {
   "cell_type": "code",
   "execution_count": 7,
   "metadata": {},
   "outputs": [],
   "source": [
    "class Code(object):\n",
    "    \n",
    "    def __init__(self):\n",
    "        self.code = []\n",
    "        self.names = []\n",
    "        self.consts = []\n",
    "        self.globals = {}"
   ]
  },
  {
   "cell_type": "code",
   "execution_count": 8,
   "metadata": {},
   "outputs": [],
   "source": [
    "class CodeGenerator(object):\n",
    "    \n",
    "    def __call__(self, tree):\n",
    "        self.co = Code()\n",
    "        self.visit(tree)\n",
    "        return self.co\n",
    "    \n",
    "    def _visit_children(self, node):\n",
    "        for child in node.children:\n",
    "            self.visit(child)\n",
    "    \n",
    "    def visit(self, node):\n",
    "        node_class = type(node).__name__\n",
    "        \n",
    "        if node_class == 'Tree':\n",
    "            node_type = node.data\n",
    "        elif node_class == 'Token':\n",
    "            node_type = node.type\n",
    "        \n",
    "        visit_method = getattr(self, 'visit_' + node_type)\n",
    "        visit_method(node)\n",
    "        \n",
    "    def visit_add(self, node):\n",
    "        left, right = node.children\n",
    "        self.visit(left)\n",
    "        self.visit(right)\n",
    "        self.co.code.append(('ADD', None))\n",
    "\n",
    "    def visit_sub(self, node):\n",
    "        left, right = node.children\n",
    "        self.visit(left)\n",
    "        self.visit(right)\n",
    "        self.co.code.append(('SUB', None))\n",
    "        \n",
    "    def visit_mul(self, node):\n",
    "        left, right = node.children\n",
    "        self.visit(left)\n",
    "        self.visit(right)\n",
    "        self.co.code.append(('MUL', None))\n",
    "        \n",
    "    def visit_div(self, node):\n",
    "        left, right = node.children\n",
    "        self.visit(left)\n",
    "        self.visit(right)\n",
    "        self.co.code.append(('DIV', None))\n",
    "        \n",
    "    def visit_print(self, node):\n",
    "        self._visit_children(node)\n",
    "        self.co.code.append(('PRINT', None))\n",
    "        \n",
    "    def visit_stmt(self, node):\n",
    "        self._visit_children(node)\n",
    "        self.co.code.append(('POP', None))\n",
    "        \n",
    "    def visit_block(self, node):\n",
    "        self._visit_children(node)\n",
    "        \n",
    "    def visit_NUMBER(self, node):\n",
    "        self.co.code.append(('PUSH', int(node.value)))"
   ]
  },
  {
   "cell_type": "code",
   "execution_count": 9,
   "metadata": {},
   "outputs": [],
   "source": [
    "code_gen = CodeGenerator()\n",
    "co = code_gen(tree)"
   ]
  },
  {
   "cell_type": "code",
   "execution_count": 10,
   "metadata": {},
   "outputs": [],
   "source": [
    "class VM(object):\n",
    "    \n",
    "    def __init__(self, co):\n",
    "        self.co = co\n",
    "        self.stack = []\n",
    "        \n",
    "    def run(self):\n",
    "        i = 0\n",
    "        while i < len(self.co.code):\n",
    "            op, arg = self.co.code[i]\n",
    "            i += 1\n",
    "            run_op = getattr(self, '_' + op.lower())\n",
    "            run_op(arg)\n",
    "            \n",
    "    def _push(self, arg):\n",
    "        self.stack.append(arg)\n",
    "        \n",
    "    def _add(self, arg):\n",
    "        b = self.stack.pop()\n",
    "        a = self.stack.pop()\n",
    "        self.stack.append(a + b)\n",
    "        \n",
    "    def _sub(self, arg):\n",
    "        b = self.stack.pop()\n",
    "        a = self.stack.pop()\n",
    "        self.stack.append(a - b)\n",
    "\n",
    "    def _mul(self, arg):\n",
    "        b = self.stack.pop()\n",
    "        a = self.stack.pop()\n",
    "        self.stack.append(a * b)\n",
    "        \n",
    "    def _div(self, arg):\n",
    "        b = self.stack.pop()\n",
    "        a = self.stack.pop()\n",
    "        self.stack.append(a / b)\n",
    "        \n",
    "    def _print(self, arg):\n",
    "        print self.stack.pop()\n",
    "        \n",
    "    def _pop(self, arg):\n",
    "        self.stack.pop()"
   ]
  },
  {
   "cell_type": "code",
   "execution_count": 11,
   "metadata": {},
   "outputs": [
    {
     "name": "stdout",
     "output_type": "stream",
     "text": [
      "[('PUSH', 1), ('PUSH', 2), ('PUSH', 3), ('MUL', None), ('ADD', None), ('PRINT', None), ('PUSH', 2), ('PUSH', 2), ('ADD', None), ('POP', None), ('PUSH', 9), ('PRINT', None)]\n",
      "7\n",
      "9\n"
     ]
    },
    {
     "data": {
      "text/plain": [
       "[]"
      ]
     },
     "execution_count": 11,
     "metadata": {},
     "output_type": "execute_result"
    }
   ],
   "source": [
    "print co.code\n",
    "vm = VM(co)\n",
    "vm.run()\n",
    "vm.stack"
   ]
  },
  {
   "cell_type": "code",
   "execution_count": 12,
   "metadata": {},
   "outputs": [],
   "source": [
    "co = compile(\"\"\"\n",
    "\n",
    "x=9\n",
    "z=13\n",
    "z=9\n",
    "\n",
    "print x+z\n",
    "\n",
    "11\n",
    "\n",
    "\"\"\", 'temp', 'exec')"
   ]
  },
  {
   "cell_type": "code",
   "execution_count": 13,
   "metadata": {},
   "outputs": [
    {
     "name": "stdout",
     "output_type": "stream",
     "text": [
      "  3           0 LOAD_CONST               0 (9)\n",
      "              3 STORE_NAME               0 (x)\n",
      "\n",
      "  4           6 LOAD_CONST               1 (13)\n",
      "              9 STORE_NAME               1 (z)\n",
      "\n",
      "  5          12 LOAD_CONST               0 (9)\n",
      "             15 STORE_NAME               1 (z)\n",
      "\n",
      "  7          18 LOAD_NAME                0 (x)\n",
      "             21 LOAD_NAME                1 (z)\n",
      "             24 BINARY_ADD          \n",
      "             25 PRINT_ITEM          \n",
      "             26 PRINT_NEWLINE       \n",
      "\n",
      "  9          27 LOAD_CONST               2 (None)\n",
      "             30 RETURN_VALUE        \n"
     ]
    }
   ],
   "source": [
    "dis.dis(co)"
   ]
  },
  {
   "cell_type": "code",
   "execution_count": 14,
   "metadata": {},
   "outputs": [
    {
     "data": {
      "text/plain": [
       "('x', 'z')"
      ]
     },
     "execution_count": 14,
     "metadata": {},
     "output_type": "execute_result"
    }
   ],
   "source": [
    "co.co_names"
   ]
  },
  {
   "cell_type": "code",
   "execution_count": 15,
   "metadata": {},
   "outputs": [
    {
     "data": {
      "text/plain": [
       "(9, 13, None)"
      ]
     },
     "execution_count": 15,
     "metadata": {},
     "output_type": "execute_result"
    }
   ],
   "source": [
    "co.co_consts"
   ]
  },
  {
   "cell_type": "code",
   "execution_count": 16,
   "metadata": {},
   "outputs": [
    {
     "data": {
      "text/plain": [
       "'d\\x00\\x00Z\\x00\\x00d\\x01\\x00Z\\x01\\x00d\\x00\\x00Z\\x01\\x00e\\x00\\x00e\\x01\\x00\\x17GHd\\x02\\x00S'"
      ]
     },
     "execution_count": 16,
     "metadata": {},
     "output_type": "execute_result"
    }
   ],
   "source": [
    "co.co_code"
   ]
  },
  {
   "cell_type": "code",
   "execution_count": null,
   "metadata": {},
   "outputs": [],
   "source": []
  }
 ],
 "metadata": {
  "kernelspec": {
   "display_name": "Python 2",
   "language": "python",
   "name": "python2"
  },
  "language_info": {
   "codemirror_mode": {
    "name": "ipython",
    "version": 2
   },
   "file_extension": ".py",
   "mimetype": "text/x-python",
   "name": "python",
   "nbconvert_exporter": "python",
   "pygments_lexer": "ipython2",
   "version": "2.7.13"
  }
 },
 "nbformat": 4,
 "nbformat_minor": 2
}
